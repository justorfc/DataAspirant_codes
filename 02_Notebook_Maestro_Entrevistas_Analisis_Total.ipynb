{
  "cells": [
    {
      "cell_type": "markdown",
      "metadata": {
        "id": "view-in-github",
        "colab_type": "text"
      },
      "source": [
        "<a href=\"https://colab.research.google.com/github/justorfc/DataAspirant_codes/blob/master/02_Notebook_Maestro_Entrevistas_Analisis_Total.ipynb\" target=\"_parent\"><img src=\"https://colab.research.google.com/assets/colab-badge.svg\" alt=\"Open In Colab\"/></a>"
      ]
    },
    {
      "cell_type": "markdown",
      "id": "e926fc51",
      "metadata": {
        "id": "e926fc51"
      },
      "source": [
        "# Notebook Maestro: Análisis temático y de sentimiento en entrevistas\n",
        "\n",
        "Este notebook permite:\n",
        "- Procesar múltiples entrevistas (.txt)\n",
        "- Calcular frecuencias y exportarlas a .csv\n",
        "- Construir una matriz documento-término (TF-IDF)\n",
        "- Realizar análisis de sentimiento\n",
        "- Aplicar clustering temático\n",
        "- Visualizar resultados\n",
        "\n",
        "## 1. Instalar e importar librerías necesarias"
      ]
    },
    {
      "cell_type": "code",
      "execution_count": null,
      "id": "d68bf6c0",
      "metadata": {
        "id": "d68bf6c0"
      },
      "outputs": [],
      "source": [
        "!pip install -q nltk scikit-learn textblob\n",
        "!python -m textblob.download_corpora\n",
        "\n",
        "import nltk\n",
        "import os\n",
        "import pandas as pd\n",
        "import re\n",
        "from collections import Counter\n",
        "from nltk.corpus import stopwords\n",
        "from textblob import TextBlob\n",
        "from sklearn.feature_extraction.text import TfidfVectorizer\n",
        "from sklearn.decomposition import PCA\n",
        "from sklearn.cluster import KMeans\n",
        "import matplotlib.pyplot as plt\n",
        "import seaborn as sns\n",
        "\n",
        "nltk.download('stopwords')\n",
        "stopwords_esp = set(stopwords.words('spanish'))"
      ]
    },
    {
      "cell_type": "markdown",
      "id": "d92fa41d",
      "metadata": {
        "id": "d92fa41d"
      },
      "source": [
        "## 2. Subir múltiples archivos `.txt`"
      ]
    },
    {
      "cell_type": "code",
      "execution_count": null,
      "id": "e2317172",
      "metadata": {
        "id": "e2317172"
      },
      "outputs": [],
      "source": [
        "from google.colab import files\n",
        "uploaded = files.upload()\n",
        "txt_files = [f for f in uploaded if f.endswith('.txt')]"
      ]
    },
    {
      "cell_type": "markdown",
      "id": "9cc6d7f7",
      "metadata": {
        "id": "9cc6d7f7"
      },
      "source": [
        "## 3. Procesar cada archivo: frecuencias, sentimiento y guardar CSV"
      ]
    },
    {
      "cell_type": "code",
      "execution_count": null,
      "id": "cc5cf46e",
      "metadata": {
        "id": "cc5cf46e"
      },
      "outputs": [],
      "source": [
        "datos = []\n",
        "corpus = []\n",
        "\n",
        "for archivo in txt_files:\n",
        "    with open(archivo, 'r', encoding='utf-8') as f:\n",
        "        texto = f.read()\n",
        "        corpus.append(texto)\n",
        "\n",
        "    # Tokenización simple\n",
        "    palabras = re.findall(r'\\b\\w+\\b', texto.lower())\n",
        "    tokens = [p for p in palabras if p not in stopwords_esp]\n",
        "    frecuencias = Counter(tokens)\n",
        "\n",
        "    # Exportar CSV por archivo\n",
        "    df_frec = pd.DataFrame(frecuencias.items(), columns=['palabra', 'frecuencia'])\n",
        "    df_frec['archivo'] = archivo\n",
        "    df_frec.to_csv(archivo.replace('.txt', '_frecuencias.csv'), index=False)\n",
        "\n",
        "    # Análisis de sentimiento con TextBlob\n",
        "    sentimiento = TextBlob(texto).sentiment.polarity\n",
        "\n",
        "    # Guardar datos básicos\n",
        "    datos.append({\n",
        "        'archivo': archivo,\n",
        "        'texto': texto,\n",
        "        'tokens': ' '.join(tokens),\n",
        "        'sentimiento': sentimiento\n",
        "    })\n",
        "\n",
        "df_datos = pd.DataFrame(datos)\n",
        "df_datos.to_csv(\"resumen_entrevistas.csv\", index=False)"
      ]
    },
    {
      "cell_type": "markdown",
      "id": "cf7aaf2b",
      "metadata": {
        "id": "cf7aaf2b"
      },
      "source": [
        "## 4. Construir matriz documento-término (TF-IDF)"
      ]
    },
    {
      "cell_type": "code",
      "execution_count": null,
      "id": "8e361c7e",
      "metadata": {
        "id": "8e361c7e"
      },
      "outputs": [],
      "source": [
        "vectorizador = TfidfVectorizer()\n",
        "tfidf = vectorizador.fit_transform(df_datos['tokens'])\n",
        "matriz_tfidf = pd.DataFrame(tfidf.toarray(), columns=vectorizador.get_feature_names_out())\n",
        "matriz_tfidf['archivo'] = df_datos['archivo']\n",
        "matriz_tfidf.head()"
      ]
    },
    {
      "cell_type": "markdown",
      "id": "8cfa0591",
      "metadata": {
        "id": "8cfa0591"
      },
      "source": [
        "## 5. Análisis de Clustering con KMeans"
      ]
    },
    {
      "cell_type": "code",
      "execution_count": null,
      "id": "d33fb9e8",
      "metadata": {
        "id": "d33fb9e8"
      },
      "outputs": [],
      "source": [
        "kmeans = KMeans(n_clusters=3, random_state=0)\n",
        "clusters = kmeans.fit_predict(tfidf)\n",
        "df_datos['cluster'] = clusters"
      ]
    },
    {
      "cell_type": "markdown",
      "id": "f5aed890",
      "metadata": {
        "id": "f5aed890"
      },
      "source": [
        "## 6. Visualización con PCA"
      ]
    },
    {
      "cell_type": "code",
      "execution_count": null,
      "id": "e540267f",
      "metadata": {
        "id": "e540267f"
      },
      "outputs": [],
      "source": [
        "pca = PCA(n_components=2)\n",
        "coords = pca.fit_transform(tfidf.toarray())\n",
        "\n",
        "plt.figure(figsize=(10, 6))\n",
        "sns.scatterplot(x=coords[:,0], y=coords[:,1], hue=df_datos['cluster'], palette='Set2')\n",
        "for i, archivo in enumerate(df_datos['archivo']):\n",
        "    plt.text(coords[i,0]+0.01, coords[i,1]+0.01, archivo[:10], fontsize=9)\n",
        "plt.title(\"Agrupamiento de entrevistas (PCA + KMeans)\")\n",
        "plt.grid(True)\n",
        "plt.show()"
      ]
    },
    {
      "cell_type": "markdown",
      "id": "0560d9bb",
      "metadata": {
        "id": "0560d9bb"
      },
      "source": [
        "## 7. Visualización del sentimiento por entrevista"
      ]
    },
    {
      "cell_type": "code",
      "execution_count": null,
      "id": "fe287153",
      "metadata": {
        "id": "fe287153"
      },
      "outputs": [],
      "source": [
        "plt.figure(figsize=(10,4))\n",
        "sns.barplot(data=df_datos, x='archivo', y='sentimiento', palette='coolwarm')\n",
        "plt.xticks(rotation=90)\n",
        "plt.title(\"Análisis de sentimiento por entrevista\")\n",
        "plt.grid(True)\n",
        "plt.show()"
      ]
    },
    {
      "cell_type": "markdown",
      "id": "689b771c",
      "metadata": {
        "id": "689b771c"
      },
      "source": [
        "## 8. Exportar datos finales"
      ]
    },
    {
      "cell_type": "code",
      "execution_count": null,
      "id": "f0e4acdf",
      "metadata": {
        "id": "f0e4acdf"
      },
      "outputs": [],
      "source": [
        "df_datos.to_csv(\"resultados_finales_sentimiento_clusters.csv\", index=False)\n",
        "print(\"Exportado como resultados_finales_sentimiento_clusters.csv\")"
      ]
    },
    {
      "cell_type": "markdown",
      "id": "a0d2f866",
      "metadata": {
        "id": "a0d2f866"
      },
      "source": [
        "## 9. Conclusión\n",
        "\n",
        "Este notebook maestro permite un análisis integrado de múltiples entrevistas: análisis textual, sentimiento, agrupamiento y visualizaciones. Puede extenderse a mapas temáticos, dashboards o análisis temporal si se requiere."
      ]
    }
  ],
  "metadata": {
    "colab": {
      "provenance": [],
      "gpuType": "T4",
      "include_colab_link": true
    },
    "language_info": {
      "name": "python"
    },
    "accelerator": "GPU",
    "kernelspec": {
      "name": "python3",
      "display_name": "Python 3"
    }
  },
  "nbformat": 4,
  "nbformat_minor": 5
}